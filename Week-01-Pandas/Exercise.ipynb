{
 "cells": [
  {
   "cell_type": "markdown",
   "metadata": {},
   "source": [
    "# Data wrangling with Pandas exercise\n",
    "* For this exercise we will be using the `listings.csv` data file."
   ]
  },
  {
   "cell_type": "code",
   "execution_count": 1,
   "metadata": {},
   "outputs": [],
   "source": [
    "import pandas as pd\n",
    "import numpy as np"
   ]
  },
  {
   "cell_type": "markdown",
   "metadata": {},
   "source": [
    "# Load in the data file using `pd.read_csv()`"
   ]
  },
  {
   "cell_type": "code",
   "execution_count": 16,
   "metadata": {},
   "outputs": [],
   "source": [
    "# Load data here\n",
    "df = pd.read_csv(filepath_or_buffer='data/listings.csv',sep=',')\n",
    "\n"
   ]
  },
  {
   "cell_type": "markdown",
   "metadata": {},
   "source": [
    "## Exercise 2 - Filtering\n",
    "\n",
    "Return the following subsets of the dataframe.\n",
    "\n",
    "1. How many listings are there with a price less than 100? \n",
    "\n",
    "\n",
    "2. Find how many listings there are in just Brooklyn.\n",
    "\n",
    "\n",
    "3. Find how many listings there are in Brooklyn with a price less than 100.\n",
    "\n",
    "\n",
    "4. Using `.isin()` select anyone that has the host name of Michael, David, John, and Daniel.\n",
    "\n",
    "\n",
    "5. Create a new column called `adjusted_price` that has $100 added to every listing in Williamsburg.  The prices for all other listings should be the same as the were before. \n",
    "\n",
    "\n",
    "6. What % of the rooms are private, and what % of the rooms are shared.  \n",
    "    * Hint, use `.value_counts()`\n"
   ]
  },
  {
   "cell_type": "code",
   "execution_count": 13,
   "metadata": {},
   "outputs": [
    {
     "data": {
      "text/plain": [
       "(22778, 16)"
      ]
     },
     "execution_count": 13,
     "metadata": {},
     "output_type": "execute_result"
    }
   ],
   "source": [
    "# 1. How many listings are there with a price less than 100? \n",
    "\n",
    "condition = df.price < 100\n",
    "df[condition].shape\n"
   ]
  },
  {
   "cell_type": "code",
   "execution_count": 26,
   "metadata": {},
   "outputs": [
    {
     "data": {
      "text/plain": [
       "(18632, 16)"
      ]
     },
     "execution_count": 26,
     "metadata": {},
     "output_type": "execute_result"
    }
   ],
   "source": [
    "# 2. Make a new DataFrame of listings in Brooklyn named `df_bk` \n",
    "# and find how many listings in just Brooklyn.\n",
    "\n",
    "condition = df['neighbourhood_group'] == 'Brooklyn'\n",
    "df_bk = df[condition]\n",
    "df_bk.shape\n"
   ]
  },
  {
   "cell_type": "code",
   "execution_count": 91,
   "metadata": {},
   "outputs": [
    {
     "data": {
      "text/plain": [
       "10473"
      ]
     },
     "execution_count": 91,
     "metadata": {},
     "output_type": "execute_result"
    }
   ],
   "source": [
    "# 3. Find how many listings there are in Brooklyn with a price less than 100.\n",
    "\n",
    "condition1 = df['neighbourhood_group'] == 'Brooklyn'\n",
    "condition2 = df.price < 100\n",
    "df_bk = df[condition1 & condition2]\n",
    "df_bk.shape[0]\n"
   ]
  },
  {
   "cell_type": "code",
   "execution_count": 39,
   "metadata": {},
   "outputs": [
    {
     "data": {
      "text/html": [
       "<div>\n",
       "<style scoped>\n",
       "    .dataframe tbody tr th:only-of-type {\n",
       "        vertical-align: middle;\n",
       "    }\n",
       "\n",
       "    .dataframe tbody tr th {\n",
       "        vertical-align: top;\n",
       "    }\n",
       "\n",
       "    .dataframe thead th {\n",
       "        text-align: right;\n",
       "    }\n",
       "</style>\n",
       "<table border=\"1\" class=\"dataframe\">\n",
       "  <thead>\n",
       "    <tr style=\"text-align: right;\">\n",
       "      <th></th>\n",
       "      <th>id</th>\n",
       "      <th>name</th>\n",
       "      <th>host_id</th>\n",
       "      <th>host_name</th>\n",
       "      <th>neighbourhood_group</th>\n",
       "      <th>neighbourhood</th>\n",
       "      <th>latitude</th>\n",
       "      <th>longitude</th>\n",
       "      <th>room_type</th>\n",
       "      <th>price</th>\n",
       "      <th>minimum_nights</th>\n",
       "      <th>number_of_reviews</th>\n",
       "      <th>last_review</th>\n",
       "      <th>reviews_per_month</th>\n",
       "      <th>calculated_host_listings_count</th>\n",
       "      <th>availability_365</th>\n",
       "    </tr>\n",
       "  </thead>\n",
       "  <tbody>\n",
       "    <tr>\n",
       "      <th>52</th>\n",
       "      <td>16595</td>\n",
       "      <td>LOFT HAVEN ~ Six Windows ~ Bricks ~ Plants ~ Q...</td>\n",
       "      <td>64522</td>\n",
       "      <td>Daniel</td>\n",
       "      <td>Brooklyn</td>\n",
       "      <td>Williamsburg</td>\n",
       "      <td>40.70933</td>\n",
       "      <td>-73.96792</td>\n",
       "      <td>Entire home/apt</td>\n",
       "      <td>271</td>\n",
       "      <td>1</td>\n",
       "      <td>172</td>\n",
       "      <td>2020-07-14</td>\n",
       "      <td>1.44</td>\n",
       "      <td>1</td>\n",
       "      <td>365</td>\n",
       "    </tr>\n",
       "    <tr>\n",
       "      <th>201</th>\n",
       "      <td>61747</td>\n",
       "      <td>Cozy,  Brooklyn, Prospect Park Studio</td>\n",
       "      <td>299370</td>\n",
       "      <td>David</td>\n",
       "      <td>Brooklyn</td>\n",
       "      <td>Prospect-Lefferts Gardens</td>\n",
       "      <td>40.65979</td>\n",
       "      <td>-73.96180</td>\n",
       "      <td>Entire home/apt</td>\n",
       "      <td>91</td>\n",
       "      <td>14</td>\n",
       "      <td>97</td>\n",
       "      <td>2018-01-31</td>\n",
       "      <td>0.83</td>\n",
       "      <td>1</td>\n",
       "      <td>44</td>\n",
       "    </tr>\n",
       "    <tr>\n",
       "      <th>209</th>\n",
       "      <td>62903</td>\n",
       "      <td>Beautiful modern studio apartment in heart of NYC</td>\n",
       "      <td>306605</td>\n",
       "      <td>Daniel</td>\n",
       "      <td>Manhattan</td>\n",
       "      <td>Chelsea</td>\n",
       "      <td>40.74238</td>\n",
       "      <td>-73.99567</td>\n",
       "      <td>Entire home/apt</td>\n",
       "      <td>205</td>\n",
       "      <td>15</td>\n",
       "      <td>68</td>\n",
       "      <td>2019-12-14</td>\n",
       "      <td>0.67</td>\n",
       "      <td>2</td>\n",
       "      <td>89</td>\n",
       "    </tr>\n",
       "    <tr>\n",
       "      <th>220</th>\n",
       "      <td>64015</td>\n",
       "      <td>Prime East Village 1 Bedroom</td>\n",
       "      <td>146944</td>\n",
       "      <td>David</td>\n",
       "      <td>Manhattan</td>\n",
       "      <td>East Village</td>\n",
       "      <td>40.72807</td>\n",
       "      <td>-73.98594</td>\n",
       "      <td>Entire home/apt</td>\n",
       "      <td>200</td>\n",
       "      <td>3</td>\n",
       "      <td>0</td>\n",
       "      <td>NaN</td>\n",
       "      <td>NaN</td>\n",
       "      <td>1</td>\n",
       "      <td>0</td>\n",
       "    </tr>\n",
       "    <tr>\n",
       "      <th>260</th>\n",
       "      <td>74073</td>\n",
       "      <td>Food &amp; Music Dream Apartment in Williamsburg</td>\n",
       "      <td>211877</td>\n",
       "      <td>Daniel</td>\n",
       "      <td>Brooklyn</td>\n",
       "      <td>Williamsburg</td>\n",
       "      <td>40.71113</td>\n",
       "      <td>-73.96054</td>\n",
       "      <td>Entire home/apt</td>\n",
       "      <td>187</td>\n",
       "      <td>30</td>\n",
       "      <td>90</td>\n",
       "      <td>2020-07-31</td>\n",
       "      <td>0.81</td>\n",
       "      <td>1</td>\n",
       "      <td>261</td>\n",
       "    </tr>\n",
       "    <tr>\n",
       "      <th>...</th>\n",
       "      <td>...</td>\n",
       "      <td>...</td>\n",
       "      <td>...</td>\n",
       "      <td>...</td>\n",
       "      <td>...</td>\n",
       "      <td>...</td>\n",
       "      <td>...</td>\n",
       "      <td>...</td>\n",
       "      <td>...</td>\n",
       "      <td>...</td>\n",
       "      <td>...</td>\n",
       "      <td>...</td>\n",
       "      <td>...</td>\n",
       "      <td>...</td>\n",
       "      <td>...</td>\n",
       "      <td>...</td>\n",
       "    </tr>\n",
       "    <tr>\n",
       "      <th>46362</th>\n",
       "      <td>44639591</td>\n",
       "      <td>Central &amp; Stylish 1 Bedroom Apt - Heart of Che...</td>\n",
       "      <td>286136716</td>\n",
       "      <td>John</td>\n",
       "      <td>Manhattan</td>\n",
       "      <td>Chelsea</td>\n",
       "      <td>40.74568</td>\n",
       "      <td>-73.99694</td>\n",
       "      <td>Entire home/apt</td>\n",
       "      <td>110</td>\n",
       "      <td>30</td>\n",
       "      <td>0</td>\n",
       "      <td>NaN</td>\n",
       "      <td>NaN</td>\n",
       "      <td>3</td>\n",
       "      <td>110</td>\n",
       "    </tr>\n",
       "    <tr>\n",
       "      <th>46396</th>\n",
       "      <td>44661297</td>\n",
       "      <td>Flushing Sunshine home  #101</td>\n",
       "      <td>361579037</td>\n",
       "      <td>Daniel</td>\n",
       "      <td>Queens</td>\n",
       "      <td>Flushing</td>\n",
       "      <td>40.74603</td>\n",
       "      <td>-73.82837</td>\n",
       "      <td>Private room</td>\n",
       "      <td>52</td>\n",
       "      <td>1</td>\n",
       "      <td>0</td>\n",
       "      <td>NaN</td>\n",
       "      <td>NaN</td>\n",
       "      <td>2</td>\n",
       "      <td>360</td>\n",
       "    </tr>\n",
       "    <tr>\n",
       "      <th>46403</th>\n",
       "      <td>44662157</td>\n",
       "      <td>Flushing Sunshine home #102</td>\n",
       "      <td>361579037</td>\n",
       "      <td>Daniel</td>\n",
       "      <td>Queens</td>\n",
       "      <td>Flushing</td>\n",
       "      <td>40.74441</td>\n",
       "      <td>-73.82829</td>\n",
       "      <td>Private room</td>\n",
       "      <td>55</td>\n",
       "      <td>1</td>\n",
       "      <td>3</td>\n",
       "      <td>2020-08-16</td>\n",
       "      <td>3.00</td>\n",
       "      <td>2</td>\n",
       "      <td>365</td>\n",
       "    </tr>\n",
       "    <tr>\n",
       "      <th>46455</th>\n",
       "      <td>44697211</td>\n",
       "      <td>David’s Queen Sized Room</td>\n",
       "      <td>343477029</td>\n",
       "      <td>David</td>\n",
       "      <td>Queens</td>\n",
       "      <td>Far Rockaway</td>\n",
       "      <td>40.59460</td>\n",
       "      <td>-73.75875</td>\n",
       "      <td>Private room</td>\n",
       "      <td>95</td>\n",
       "      <td>1</td>\n",
       "      <td>0</td>\n",
       "      <td>NaN</td>\n",
       "      <td>NaN</td>\n",
       "      <td>1</td>\n",
       "      <td>365</td>\n",
       "    </tr>\n",
       "    <tr>\n",
       "      <th>46508</th>\n",
       "      <td>44797527</td>\n",
       "      <td>Long-Term: Furnished Apt in Nolita w/ Amenities</td>\n",
       "      <td>19448640</td>\n",
       "      <td>David</td>\n",
       "      <td>Manhattan</td>\n",
       "      <td>Nolita</td>\n",
       "      <td>40.72289</td>\n",
       "      <td>-73.99400</td>\n",
       "      <td>Entire home/apt</td>\n",
       "      <td>140</td>\n",
       "      <td>30</td>\n",
       "      <td>0</td>\n",
       "      <td>NaN</td>\n",
       "      <td>NaN</td>\n",
       "      <td>1</td>\n",
       "      <td>282</td>\n",
       "    </tr>\n",
       "  </tbody>\n",
       "</table>\n",
       "<p>1258 rows × 16 columns</p>\n",
       "</div>"
      ],
      "text/plain": [
       "             id                                               name    host_id  \\\n",
       "52        16595  LOFT HAVEN ~ Six Windows ~ Bricks ~ Plants ~ Q...      64522   \n",
       "201       61747              Cozy,  Brooklyn, Prospect Park Studio     299370   \n",
       "209       62903  Beautiful modern studio apartment in heart of NYC     306605   \n",
       "220       64015                       Prime East Village 1 Bedroom     146944   \n",
       "260       74073       Food & Music Dream Apartment in Williamsburg     211877   \n",
       "...         ...                                                ...        ...   \n",
       "46362  44639591  Central & Stylish 1 Bedroom Apt - Heart of Che...  286136716   \n",
       "46396  44661297                       Flushing Sunshine home  #101  361579037   \n",
       "46403  44662157                        Flushing Sunshine home #102  361579037   \n",
       "46455  44697211                           David’s Queen Sized Room  343477029   \n",
       "46508  44797527    Long-Term: Furnished Apt in Nolita w/ Amenities   19448640   \n",
       "\n",
       "      host_name neighbourhood_group              neighbourhood  latitude  \\\n",
       "52       Daniel            Brooklyn               Williamsburg  40.70933   \n",
       "201       David            Brooklyn  Prospect-Lefferts Gardens  40.65979   \n",
       "209      Daniel           Manhattan                    Chelsea  40.74238   \n",
       "220       David           Manhattan               East Village  40.72807   \n",
       "260      Daniel            Brooklyn               Williamsburg  40.71113   \n",
       "...         ...                 ...                        ...       ...   \n",
       "46362      John           Manhattan                    Chelsea  40.74568   \n",
       "46396    Daniel              Queens                   Flushing  40.74603   \n",
       "46403    Daniel              Queens                   Flushing  40.74441   \n",
       "46455     David              Queens               Far Rockaway  40.59460   \n",
       "46508     David           Manhattan                     Nolita  40.72289   \n",
       "\n",
       "       longitude        room_type  price  minimum_nights  number_of_reviews  \\\n",
       "52     -73.96792  Entire home/apt    271               1                172   \n",
       "201    -73.96180  Entire home/apt     91              14                 97   \n",
       "209    -73.99567  Entire home/apt    205              15                 68   \n",
       "220    -73.98594  Entire home/apt    200               3                  0   \n",
       "260    -73.96054  Entire home/apt    187              30                 90   \n",
       "...          ...              ...    ...             ...                ...   \n",
       "46362  -73.99694  Entire home/apt    110              30                  0   \n",
       "46396  -73.82837     Private room     52               1                  0   \n",
       "46403  -73.82829     Private room     55               1                  3   \n",
       "46455  -73.75875     Private room     95               1                  0   \n",
       "46508  -73.99400  Entire home/apt    140              30                  0   \n",
       "\n",
       "      last_review  reviews_per_month  calculated_host_listings_count  \\\n",
       "52     2020-07-14               1.44                               1   \n",
       "201    2018-01-31               0.83                               1   \n",
       "209    2019-12-14               0.67                               2   \n",
       "220           NaN                NaN                               1   \n",
       "260    2020-07-31               0.81                               1   \n",
       "...           ...                ...                             ...   \n",
       "46362         NaN                NaN                               3   \n",
       "46396         NaN                NaN                               2   \n",
       "46403  2020-08-16               3.00                               2   \n",
       "46455         NaN                NaN                               1   \n",
       "46508         NaN                NaN                               1   \n",
       "\n",
       "       availability_365  \n",
       "52                  365  \n",
       "201                  44  \n",
       "209                  89  \n",
       "220                   0  \n",
       "260                 261  \n",
       "...                 ...  \n",
       "46362               110  \n",
       "46396               360  \n",
       "46403               365  \n",
       "46455               365  \n",
       "46508               282  \n",
       "\n",
       "[1258 rows x 16 columns]"
      ]
     },
     "execution_count": 39,
     "metadata": {},
     "output_type": "execute_result"
    }
   ],
   "source": [
    "# 4. Using `.isin()` select anyone that has the host name of Michael, David, John, and Daniel.\n",
    "\n",
    "host = ['Michael', 'David', 'John', 'Daniel']\n",
    "hosts = df.host_name.isin(host)\n",
    "df[hosts]"
   ]
  },
  {
   "cell_type": "code",
   "execution_count": 53,
   "metadata": {},
   "outputs": [],
   "source": [
    "# 5. Create a new column called `adjusted_price` that has $100 added to every listing in Williamsburg.  \n",
    "# The prices for all other listings should be the same as the were before. \n",
    "condition1 = 'neighbourhood' == 'Williamsburg'\n",
    "\n",
    "df['adjusted_price'] = np.where(condition1,df.price+100,df.price)\n",
    "\n"
   ]
  },
  {
   "cell_type": "code",
   "execution_count": 89,
   "metadata": {},
   "outputs": [
    {
     "name": "stdout",
     "output_type": "stream",
     "text": [
      "There are 45.444580566122895% Private rooms\n",
      "There are 2.12134889419047% Shared rooms\n"
     ]
    }
   ],
   "source": [
    "# 6. What % of the rooms are private, and what % of the rooms are shared.  \n",
    "\n",
    "condition1 = df.room_type == 'Private room'\n",
    "condition2 = df.room_type == 'Shared room'\n",
    "private = df[condition1]\n",
    "shared = df[condition2]\n",
    "\n",
    "print(f\"There are {(private.shape[0]/df.shape[0])*100}% Private rooms\")\n",
    "print(f\"There are {(shared.shape[0]/df.shape[0])*100}% Shared rooms\")\n",
    "\n"
   ]
  },
  {
   "cell_type": "markdown",
   "metadata": {},
   "source": [
    "# Exercise 3 - Grouping\n",
    "\n",
    "1. Using `groupby`, count how many listings are in each neighbourhood_group.\n",
    "\n",
    "\n",
    "2. Using `groupby`, find the mean price for each of the neighbourhood_groups. \n",
    "\n",
    "\n",
    "3. Using `groupby` and `.agg()`, find the min and max price for each of the neighbourhood_groups. \n",
    "\n",
    "\n",
    "4. Using `groupby`, find the median price for each room type in each neighbourhood_group.\n",
    "\n",
    "\n",
    "5. Using `groupby` and `.agg()`, find the count, min, max, mean, median, and std of the prices for each room type in each neighbourhood_group."
   ]
  },
  {
   "cell_type": "code",
   "execution_count": 8,
   "metadata": {},
   "outputs": [],
   "source": [
    "# 1. Using `groupby`, count how many listings are in each neighbourhood_group.\n",
    "\n",
    "\n"
   ]
  },
  {
   "cell_type": "code",
   "execution_count": 12,
   "metadata": {},
   "outputs": [],
   "source": [
    "# 2. Using `groupby`, find the mean price for each of the neighbourhood_groups. \n",
    "\n",
    "\n"
   ]
  },
  {
   "cell_type": "code",
   "execution_count": 13,
   "metadata": {},
   "outputs": [],
   "source": [
    "# 3. Using `groupby` and `.agg()`, find the min and max price for each of the neighbourhood_groups. \n",
    "\n",
    "\n"
   ]
  },
  {
   "cell_type": "code",
   "execution_count": 14,
   "metadata": {},
   "outputs": [],
   "source": [
    "# 4. Using `groupby`, find the mean price for each room type in each neighbourhood_group.\n",
    "\n"
   ]
  },
  {
   "cell_type": "code",
   "execution_count": 15,
   "metadata": {},
   "outputs": [],
   "source": [
    "# 5. Using `groupby` and `.agg()`, find the count, min, max, mean, median, and std of the prices \n",
    "# for each room type in each neighbourhood_group.\n",
    "\n",
    "\n",
    "\n"
   ]
  },
  {
   "cell_type": "markdown",
   "metadata": {},
   "source": [
    "# Join and file saving.\n",
    "1. Load the `prices.csv` and the `n_listings.csv`\n",
    "\n",
    "\n",
    "2. Do join that keeps all the records for each table.\n",
    "    * Neighbourhood groups should include ['Bronx', 'Brooklyn', 'Manhattan', 'Queens', 'Staten Island',\n",
    "       'LongIsland']\n",
    "       \n",
    "       \n",
    "3. Save your joined csv as `joined.csv`\n",
    "\n",
    "\n",
    "4. Load your saved table and see if it looks the same or different that the DataFrame you used to create it. "
   ]
  },
  {
   "cell_type": "code",
   "execution_count": 16,
   "metadata": {},
   "outputs": [],
   "source": [
    "# 1. Load the `prices.csv` and the `n_listings.csv`\n",
    "\n"
   ]
  },
  {
   "cell_type": "code",
   "execution_count": 18,
   "metadata": {},
   "outputs": [],
   "source": [
    "# 2. Do join that keeps all the records for each table.\n",
    "\n",
    "\n"
   ]
  },
  {
   "cell_type": "markdown",
   "metadata": {},
   "source": [
    "# Use the grammys.csv data for the next section of questions.\n",
    "\n",
    "1. Who was won Album of the Year in 2016?\n",
    "\n",
    "\n",
    "2. Who won Best Rap Album in 2009?\n",
    "\n",
    "\n",
    "3. How many awards was Kendrick Lamar nomiated for, and how many did he win...?"
   ]
  },
  {
   "cell_type": "code",
   "execution_count": 19,
   "metadata": {},
   "outputs": [],
   "source": [
    "#  1. Who was won Album of the Year in 2016?\n",
    "\n",
    "\n"
   ]
  },
  {
   "cell_type": "code",
   "execution_count": 20,
   "metadata": {},
   "outputs": [],
   "source": [
    "# 2. Who won Best Rap Album in 2009?\n",
    "\n",
    "\n"
   ]
  },
  {
   "cell_type": "code",
   "execution_count": 21,
   "metadata": {},
   "outputs": [],
   "source": [
    "# 3. How many awards was Kendrick Lamar nomiated for, and how many did he win...?\n",
    "\n",
    "\n"
   ]
  }
 ],
 "metadata": {
  "kernelspec": {
   "display_name": "Python 3",
   "language": "python",
   "name": "python3"
  },
  "language_info": {
   "codemirror_mode": {
    "name": "ipython",
    "version": 3
   },
   "file_extension": ".py",
   "mimetype": "text/x-python",
   "name": "python",
   "nbconvert_exporter": "python",
   "pygments_lexer": "ipython3",
   "version": "3.8.8"
  }
 },
 "nbformat": 4,
 "nbformat_minor": 2
}
